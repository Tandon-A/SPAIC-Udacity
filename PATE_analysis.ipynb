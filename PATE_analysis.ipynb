{
  "nbformat": 4,
  "nbformat_minor": 0,
  "metadata": {
    "colab": {
      "name": "PATE_analysis.ipynb",
      "version": "0.3.2",
      "provenance": [],
      "include_colab_link": true
    },
    "kernelspec": {
      "name": "python3",
      "display_name": "Python 3"
    },
    "accelerator": "GPU"
  },
  "cells": [
    {
      "cell_type": "markdown",
      "metadata": {
        "id": "view-in-github",
        "colab_type": "text"
      },
      "source": [
        "<a href=\"https://colab.research.google.com/github/Tandon-A/SPAIC-Udacity/blob/master/PATE_analysis.ipynb\" target=\"_parent\"><img src=\"https://colab.research.google.com/assets/colab-badge.svg\" alt=\"Open In Colab\"/></a>"
      ]
    },
    {
      "cell_type": "code",
      "metadata": {
        "id": "Y9rdNnAYd4Cu",
        "colab_type": "code",
        "colab": {}
      },
      "source": [
        "!pip install syft"
      ],
      "execution_count": 0,
      "outputs": []
    },
    {
      "cell_type": "code",
      "metadata": {
        "id": "m9dFkRsndyf6",
        "colab_type": "code",
        "colab": {
          "base_uri": "https://localhost:8080/",
          "height": 428
        },
        "outputId": "b34b7efd-97e4-46da-eb76-8e52aa464d07"
      },
      "source": [
        "import torch.nn as nn\n",
        "from collections import OrderedDict\n",
        "import numpy as np\n",
        "import torch\n",
        "from torch import optim\n",
        "from torchvision import datasets, transforms\n",
        "\n",
        "\n",
        "\n",
        "#Getting MNIST Data\n",
        "\n",
        "transform = transforms.Compose([transforms.ToTensor(),\n",
        "                                transforms.Normalize((0.5), (0.5)),\n",
        "                              ])\n",
        "mnist_trainset = datasets.MNIST(root='./train_data', train=True, download=True, transform=transform)\n",
        "\n",
        "trainX = mnist_trainset.train_data\n",
        "trainY = mnist_trainset.train_labels\n",
        "testX = mnist_trainset.test_data\n",
        "testY = mnist_trainset.test_labels\n",
        "print (trainX.shape,trainY.shape,testX.shape,testY.shape)\n",
        "\n",
        "#Shuffling the data\n",
        "perm = np.random.permutation(len(trainX))\n",
        "trainX = trainX[perm,:]\n",
        "trainY = trainY[perm]\n",
        "perm = np.random.permutation(len(testX))\n",
        "testX = testX[perm,:]\n",
        "testY = testY[perm]"
      ],
      "execution_count": 2,
      "outputs": [
        {
          "output_type": "stream",
          "text": [
            "\r0it [00:00, ?it/s]"
          ],
          "name": "stderr"
        },
        {
          "output_type": "stream",
          "text": [
            "Downloading http://yann.lecun.com/exdb/mnist/train-images-idx3-ubyte.gz to ./train_data/MNIST/raw/train-images-idx3-ubyte.gz\n"
          ],
          "name": "stdout"
        },
        {
          "output_type": "stream",
          "text": [
            "9920512it [00:01, 8950179.31it/s]                            \n"
          ],
          "name": "stderr"
        },
        {
          "output_type": "stream",
          "text": [
            "Extracting ./train_data/MNIST/raw/train-images-idx3-ubyte.gz\n"
          ],
          "name": "stdout"
        },
        {
          "output_type": "stream",
          "text": [
            "  0%|          | 0/28881 [00:00<?, ?it/s]"
          ],
          "name": "stderr"
        },
        {
          "output_type": "stream",
          "text": [
            "Downloading http://yann.lecun.com/exdb/mnist/train-labels-idx1-ubyte.gz to ./train_data/MNIST/raw/train-labels-idx1-ubyte.gz\n"
          ],
          "name": "stdout"
        },
        {
          "output_type": "stream",
          "text": [
            "32768it [00:00, 135382.23it/s]           \n",
            "  0%|          | 0/1648877 [00:00<?, ?it/s]"
          ],
          "name": "stderr"
        },
        {
          "output_type": "stream",
          "text": [
            "Extracting ./train_data/MNIST/raw/train-labels-idx1-ubyte.gz\n",
            "Downloading http://yann.lecun.com/exdb/mnist/t10k-images-idx3-ubyte.gz to ./train_data/MNIST/raw/t10k-images-idx3-ubyte.gz\n"
          ],
          "name": "stdout"
        },
        {
          "output_type": "stream",
          "text": [
            "1654784it [00:00, 2438987.99it/s]                           \n",
            "0it [00:00, ?it/s]"
          ],
          "name": "stderr"
        },
        {
          "output_type": "stream",
          "text": [
            "Extracting ./train_data/MNIST/raw/t10k-images-idx3-ubyte.gz\n",
            "Downloading http://yann.lecun.com/exdb/mnist/t10k-labels-idx1-ubyte.gz to ./train_data/MNIST/raw/t10k-labels-idx1-ubyte.gz\n"
          ],
          "name": "stdout"
        },
        {
          "output_type": "stream",
          "text": [
            "8192it [00:00, 51075.54it/s]            \n",
            "/usr/local/lib/python3.6/dist-packages/torchvision/datasets/mnist.py:53: UserWarning: train_data has been renamed data\n",
            "  warnings.warn(\"train_data has been renamed data\")\n",
            "/usr/local/lib/python3.6/dist-packages/torchvision/datasets/mnist.py:43: UserWarning: train_labels has been renamed targets\n",
            "  warnings.warn(\"train_labels has been renamed targets\")\n",
            "/usr/local/lib/python3.6/dist-packages/torchvision/datasets/mnist.py:58: UserWarning: test_data has been renamed data\n",
            "  warnings.warn(\"test_data has been renamed data\")\n",
            "/usr/local/lib/python3.6/dist-packages/torchvision/datasets/mnist.py:48: UserWarning: test_labels has been renamed targets\n",
            "  warnings.warn(\"test_labels has been renamed targets\")\n"
          ],
          "name": "stderr"
        },
        {
          "output_type": "stream",
          "text": [
            "Extracting ./train_data/MNIST/raw/t10k-labels-idx1-ubyte.gz\n",
            "Processing...\n",
            "Done!\n",
            "torch.Size([60000, 28, 28]) torch.Size([60000]) torch.Size([60000, 28, 28]) torch.Size([60000])\n"
          ],
          "name": "stdout"
        }
      ]
    },
    {
      "cell_type": "code",
      "metadata": {
        "id": "AroTzIw0eIQv",
        "colab_type": "code",
        "colab": {}
      },
      "source": [
        "#Defining model architecture\n",
        "model = nn.Sequential(OrderedDict([\n",
        "    ('fc1',nn.Linear(784,512)),\n",
        "    ('r1',nn.ReLU()),\n",
        "    ('dropout1',nn.Dropout(p=0.2)),\n",
        "    ('fc2',nn.Linear(512,256)),\n",
        "    ('r2',nn.ReLU()),\n",
        "    ('dropout2',nn.Dropout(p=0.2)),\n",
        "    ('fc3',nn.Linear(256,64)),\n",
        "    ('r3',nn.ReLU()),\n",
        "    ('fc4',nn.Linear(64,10)),\n",
        "    ('log_ps',nn.LogSoftmax(dim=1))\n",
        "]))\n",
        "\n",
        "\n",
        "criterion = nn.NLLLoss() \n",
        "opt = optim.Adam(model.parameters(),lr= 0.001)\n",
        "\n",
        "device = torch.device(\"cuda:0\" if torch.cuda.is_available() else \"cpu\")"
      ],
      "execution_count": 0,
      "outputs": []
    },
    {
      "cell_type": "code",
      "metadata": {
        "id": "kdb3zj0oeedj",
        "colab_type": "code",
        "colab": {
          "base_uri": "https://localhost:8080/",
          "height": 544
        },
        "outputId": "04747104-be5b-43d0-9fb7-66df50c06e6e"
      },
      "source": [
        "num_teachers = 30   #number of teacher models\n",
        "subset_size = len(trainX) // num_teachers #data per teacher model\n",
        "\n",
        "valdata = torch.utils.data.TensorDataset(testX,testY)\n",
        "valloader = torch.utils.data.DataLoader(valdata,batch_size = 50, shuffle = False)\n",
        "train_pred = np.zeros((len(testX),num_teachers)) #array to save teacher model predictions\n",
        "\n",
        "#Function to reset model parameters\n",
        "def weight_reset(m):\n",
        "    if isinstance(m, nn.Conv2d) or isinstance(m, nn.Linear):\n",
        "        m.reset_parameters()\n",
        "\n",
        "\n",
        "for i in range(num_teachers):  \n",
        "  model.apply(weight_reset)\n",
        "  model = model.to(device)\n",
        "  #Creating DataLoader for a specific teacher model\n",
        "  tensor_dataset = torch.utils.data.TensorDataset(trainX[i*subset_size:(i+1)*subset_size],trainY[i*subset_size:(i+1)*subset_size])\n",
        "  trainloader_teacher = torch.utils.data.DataLoader(tensor_dataset,batch_size=50,shuffle=True)\n",
        "  epochs = 30  #training each teacher model for 30 epochs \n",
        "  for e in range(epochs):\n",
        "    running_loss = 0\n",
        "    model.train() #setting train mode\n",
        "    for images,labels in iter(trainloader_teacher):\n",
        "      images = images.view(images.shape[0],-1).float().to(device)#flattening the images and then sending them to corresponding device\n",
        "      labels = labels.to(device)\n",
        "      opt.zero_grad()\n",
        "      log_ps = model(images)\n",
        "      loss = criterion(log_ps,labels)\n",
        "      loss.backward()\n",
        "      opt.step()\n",
        "      running_loss += loss\n",
        "  with torch.no_grad():\n",
        "    #Teacher Model test after training \n",
        "    model.eval()\n",
        "    ps = torch.exp(model(testX.view(testX.shape[0],-1).float().to(device)))\n",
        "    topp,topk = ps.topk(1,dim=1)\n",
        "    equals = topk == testY.view(*topk.shape).to(device)\n",
        "    accuracy = torch.mean(equals.type(torch.FloatTensor))    \n",
        "    print ('teacher =%r accuracy =%r ' %(i,accuracy))\n",
        "    train_pred[:,i] = np.argmax(ps.cpu(),axis=1)#saving teacher predictions\n",
        "print ('completed ',train_pred.shape)"
      ],
      "execution_count": 4,
      "outputs": [
        {
          "output_type": "stream",
          "text": [
            "teacher =0 accuracy =tensor(0.9165) \n",
            "teacher =1 accuracy =tensor(0.9152) \n",
            "teacher =2 accuracy =tensor(0.9237) \n",
            "teacher =3 accuracy =tensor(0.9306) \n",
            "teacher =4 accuracy =tensor(0.9253) \n",
            "teacher =5 accuracy =tensor(0.9240) \n",
            "teacher =6 accuracy =tensor(0.9294) \n",
            "teacher =7 accuracy =tensor(0.9293) \n",
            "teacher =8 accuracy =tensor(0.9265) \n",
            "teacher =9 accuracy =tensor(0.9177) \n",
            "teacher =10 accuracy =tensor(0.9316) \n",
            "teacher =11 accuracy =tensor(0.9184) \n",
            "teacher =12 accuracy =tensor(0.9175) \n",
            "teacher =13 accuracy =tensor(0.9277) \n",
            "teacher =14 accuracy =tensor(0.9252) \n",
            "teacher =15 accuracy =tensor(0.9270) \n",
            "teacher =16 accuracy =tensor(0.9255) \n",
            "teacher =17 accuracy =tensor(0.9288) \n",
            "teacher =18 accuracy =tensor(0.9183) \n",
            "teacher =19 accuracy =tensor(0.9151) \n",
            "teacher =20 accuracy =tensor(0.9234) \n",
            "teacher =21 accuracy =tensor(0.9168) \n",
            "teacher =22 accuracy =tensor(0.9245) \n",
            "teacher =23 accuracy =tensor(0.9222) \n",
            "teacher =24 accuracy =tensor(0.9139) \n",
            "teacher =25 accuracy =tensor(0.9078) \n",
            "teacher =26 accuracy =tensor(0.9220) \n",
            "teacher =27 accuracy =tensor(0.9200) \n",
            "teacher =28 accuracy =tensor(0.9239) \n",
            "teacher =29 accuracy =tensor(0.9220) \n",
            "completed  (60000, 30)\n"
          ],
          "name": "stdout"
        }
      ]
    },
    {
      "cell_type": "code",
      "metadata": {
        "id": "2AbMU1N-fOZR",
        "colab_type": "code",
        "colab": {
          "base_uri": "https://localhost:8080/",
          "height": 34
        },
        "outputId": "2055abf1-0538-492c-e1ce-c1b4ef922989"
      },
      "source": [
        "#generating labels for student models by adding noise to teacher model predictions\n",
        "new_labels_noise = list()\n",
        "for i in range(len(train_pred)):\n",
        "  label_count = np.bincount(train_pred[i,:].astype(int),minlength=10)\n",
        "  eps = 0.1\n",
        "  beta = 1/eps\n",
        "  for k in range(len(label_count)):\n",
        "    label_count[k] += np.random.laplace(0,beta,1)\n",
        "  new_labels_noise.append(np.argmax(label_count))\n",
        "new_labels_noise = torch.Tensor(np.array(new_labels_noise)).type(torch.LongTensor)\n",
        "print (new_labels_noise.shape)"
      ],
      "execution_count": 6,
      "outputs": [
        {
          "output_type": "stream",
          "text": [
            "torch.Size([60000])\n"
          ],
          "name": "stdout"
        }
      ]
    },
    {
      "cell_type": "code",
      "metadata": {
        "id": "gV7Dm5_QfdRM",
        "colab_type": "code",
        "colab": {
          "base_uri": "https://localhost:8080/",
          "height": 34
        },
        "outputId": "02adb235-d3dc-4ed2-f733-efe509ae01b0"
      },
      "source": [
        "#Preparing training data for student models by using test data and new noise labels\n",
        "tensor_train_dataset = torch.utils.data.TensorDataset(testX[0:50000],new_labels_noise[0:50000])\n",
        "new_teacher_dataloader = torch.utils.data.DataLoader(tensor_train_dataset,batch_size=50,shuffle=True)\n",
        "\n",
        "model.apply(weight_reset)\n",
        "model = model.to(device)\n",
        "epochs = 30\n",
        "for e in range(epochs):    \n",
        "  running_loss = 0\n",
        "  model.train() #Training student model\n",
        "  for images,labels in iter(new_teacher_dataloader):\n",
        "    images = images.view(images.shape[0],-1).float().to(device)\n",
        "    labels = labels.to(device)\n",
        "    opt.zero_grad()\n",
        "    log_ps = model(images)\n",
        "    loss = criterion(log_ps,labels)\n",
        "    loss.backward()\n",
        "    opt.step()\n",
        "    running_loss += loss\n",
        "with torch.no_grad():\n",
        "  model.eval()\n",
        "  #Testing student model accuracy with original labels \n",
        "  ps = torch.exp(model(testX[50000:].view(testX[50000:].shape[0],-1).float().to(device)))\n",
        "  topp,topk = ps.topk(1,dim=1)\n",
        "  equals = topk == testY[50000:].view(*topk.shape).to(device)\n",
        "  accuracy = torch.mean(equals.type(torch.FloatTensor))  \n",
        "  print ('student testY accuracy =%r ' %(accuracy))"
      ],
      "execution_count": 7,
      "outputs": [
        {
          "output_type": "stream",
          "text": [
            "student testY accuracy =tensor(0.9237) \n"
          ],
          "name": "stdout"
        }
      ]
    },
    {
      "cell_type": "code",
      "metadata": {
        "id": "kUU9AqZvgLuR",
        "colab_type": "code",
        "colab": {
          "base_uri": "https://localhost:8080/",
          "height": 139
        },
        "outputId": "0301c014-861e-4f81-eab6-cd3712b48944"
      },
      "source": [
        "from syft.frameworks.torch.differential_privacy import pate\n",
        "\n",
        "data_dep_eps, data_indep_eps = pate.perform_analysis(teacher_preds = torch.Tensor(train_pred[59000:].T).type(torch.LongTensor), indices = new_labels_noise[59000:], noise_eps = 0.1, delta =1e-5,moments=10)\n",
        "print (data_dep_eps,data_indep_eps)"
      ],
      "execution_count": 8,
      "outputs": [
        {
          "output_type": "stream",
          "text": [
            "WARNING:tf_encrypted:Falling back to insecure randomness since the required custom op could not be found for the installed version of TensorFlow. Fix this by compiling custom ops. Missing file was '/usr/local/lib/python3.6/dist-packages/tf_encrypted/operations/secure_random/secure_random_module_tf_1.14.0.so'\n"
          ],
          "name": "stderr"
        },
        {
          "output_type": "stream",
          "text": [
            "WARNING:tensorflow:From /usr/local/lib/python3.6/dist-packages/tf_encrypted/session.py:26: The name tf.Session is deprecated. Please use tf.compat.v1.Session instead.\n",
            "\n"
          ],
          "name": "stdout"
        },
        {
          "output_type": "stream",
          "text": [
            "WARNING:tensorflow:From /usr/local/lib/python3.6/dist-packages/tf_encrypted/session.py:26: The name tf.Session is deprecated. Please use tf.compat.v1.Session instead.\n",
            "\n"
          ],
          "name": "stderr"
        },
        {
          "output_type": "stream",
          "text": [
            "51.512925464969555 51.51292546497024\n"
          ],
          "name": "stdout"
        }
      ]
    }
  ]
}